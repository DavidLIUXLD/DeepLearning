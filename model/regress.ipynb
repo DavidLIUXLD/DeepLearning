{
 "cells": [
  {
   "cell_type": "code",
   "execution_count": 2,
   "id": "f20586e7",
   "metadata": {},
   "outputs": [
    {
     "name": "stdout",
     "output_type": "stream",
     "text": [
      "The  k value chosen is 29, with an average score of 77.55758198475895%\n",
      "The score for the test set is 78.48423194303153%\n"
     ]
    }
   ],
   "source": [
    "import numpy as np\n",
    "from sklearn.neighbors import KNeighborsRegressor\n",
    "from sklearn.model_selection import KFold, train_test_split, cross_val_score\n",
    "from sklearn.metrics import accuracy_score\n",
    "from sklearn.preprocessing import StandardScaler\n",
    "data_multi = np.loadtxt('..\\\\Data\\\\tictac_multi.txt')\n",
    "#print(data_multi)\n",
    "#print(np.shape(data_multi))\n",
    "#print('\\n')\n",
    "names = ['k-NN Weighted']\n",
    "max_a2 = 0\n",
    "kk = 0\n",
    "acc_fold = []\n",
    "knnReg = KNeighborsRegressor(algorithm='kd_tree',n_neighbors=3, weights='distance')\n",
    "kFold = KFold(n_splits=10, shuffle=True)\n",
    "k_vals = np.arange(2,40,1)\n",
    "for k in k_vals :\n",
    "        X = data_multi[:,:9]\n",
    "        Y = data_multi[:,9:]\n",
    "        X = StandardScaler().fit_transform(X)\n",
    "        X_train, X_test, Y_train, Y_test = train_test_split(X, Y, test_size=.3)\n",
    "        regs = [KNeighborsRegressor(k, weights = 'distance')]\n",
    "        f = 1\n",
    "        a2_val = 0\n",
    "        for train_index, validation_index in kFold.split(X_train):\n",
    "            x_train2, x_val = X_train[train_index], X_train[validation_index]\n",
    "            y_train2, y_val = Y_train[train_index,:], Y_train[validation_index]\n",
    "\n",
    "            for name, reg in zip(names,regs):\n",
    "#                 print(f'Name {name}')\n",
    "                reg.fit(x_train2, y_train2)\n",
    "                y_val_predict = np.round(reg.predict(x_val))\n",
    "                val_score = accuracy_score(y_val,y_val_predict)\n",
    "#                 print(f'Validation Set Score: {val_score}')\n",
    "                a2_val += val_score\n",
    "            acc_fold += [a2_val/10]\n",
    "            if a2_val/10 > max_a2:\n",
    "                kk = k\n",
    "                max_a2 = a2_val/10\n",
    "            \n",
    "            f += 1\n",
    "print(f'The  k value chosen is {kk}, with an average score of {max_a2*100}%')\n",
    "final_reg = KNeighborsRegressor(kk, weights = 'distance')\n",
    "final_reg.fit(X_train, Y_train)\n",
    "Y_pred = np.round(final_reg.predict(X_test))\n",
    "score = accuracy_score(Y_pred, Y_test)\n",
    "print(f'The score for the test set is {score*100}%') \n",
    "\n"
   ]
  },
  {
   "cell_type": "code",
   "execution_count": 4,
   "id": "6300a6a5",
   "metadata": {},
   "outputs": [
    {
     "name": "stdout",
     "output_type": "stream",
     "text": [
      "[0.23323170731707318, 0.26564885496183205, 0.2381679389312977, 0.23053435114503817, 0.2534351145038168, 0.2198473282442748, 0.2381679389312977, 0.233587786259542, 0.22748091603053436, 0.24732824427480915]\n",
      "accuracy for linear regression : 0.2387430180599516\n"
     ]
    }
   ],
   "source": [
    "def normalEq(x, y):\n",
    "    b = np.ones((x.shape[0], 1))\n",
    "    #print(b.shape)\n",
    "    x_new = []\n",
    "    for i in range(0,x.shape[1]):\n",
    "        temp = np.reshape(x[:,i], (x.shape[0], 1))\n",
    "        #print(temp.shape)\n",
    "        if i == 0 :\n",
    "            x_new = np.append(b, temp, axis = 1)\n",
    "        else:\n",
    "            x_new = np.append(x_new, temp, axis = 1)\n",
    "    #print(x_new.shape)\n",
    "    x_new_t = np.transpose(x_new)\n",
    "    theta = np.linalg.inv(x_new_t.dot(x_new)).dot(x_new_t.dot(y.ravel()))\n",
    "    #print(theta.shape)\n",
    "    return theta\n",
    "acc_scores = []\n",
    "data_multi = np.loadtxt('..\\\\Data\\\\tictac_multi.txt')\n",
    "X = data_multi[:,:9]\n",
    "Y = data_multi[:,9:]\n",
    "kFold = KFold(n_splits = 10, shuffle=True)\n",
    "outputs = []\n",
    "for train_index, test_index in kFold.split(X) :\n",
    "    x_train, x_test = X[train_index], X[test_index]\n",
    "    y_train, y_test = Y[train_index], Y[test_index]\n",
    "    params = []\n",
    "    y_predicts = []\n",
    "    for i in range(0,9):\n",
    "        param = normalEq(x_train, y_train[:,i]).ravel()#643*9\n",
    "        params.append(param)\n",
    "        b = param[:-1]\n",
    "        w = param[-1]\n",
    "        y_predict = x_test.dot(w) + b#YT\n",
    "        y_predicts.append(y_predict)#YTC\n",
    "    y_predicts = np.array(y_predicts)\n",
    "    for i in range(0, len(y_predicts[0])) :\n",
    "        arr = y_predicts[:,i]\n",
    "        mi = np.where(arr == np.amax(arr))\n",
    "        y_predict[i, mi] = 1\n",
    "    y_predict = np.argmax(np.floor(y_predict), axis = 1)\n",
    "    acc = accuracy_score(np.argmax(y_test, axis=1), y_predict)\n",
    "    acc_scores.append(acc)\n",
    "print(acc_scores)\n",
    "print(\"accuracy for linear regression :\", np.mean(acc_scores))"
   ]
  },
  {
   "cell_type": "code",
   "execution_count": 10,
   "id": "3fd932a7",
   "metadata": {},
   "outputs": [
    {
     "name": "stdout",
     "output_type": "stream",
     "text": [
      "mlp regressor accuracy:  0.8012314148761253\n",
      "final accuracy:  0.6892551892551892\n"
     ]
    }
   ],
   "source": [
    "from sklearn.neural_network import MLPRegressor\n",
    "\n",
    "data_multi = np.loadtxt('..\\\\Data\\\\tictac_multi.txt')\n",
    "X = data_multi[:,:9]\n",
    "Y = data_multi[:,9:]\n",
    "X_train, X_test, Y_train, Y_test = train_test_split(X,Y);\n",
    "kFold = KFold(n_splits=10, shuffle=True)\n",
    "mlpReg = MLPRegressor(activation='relu', hidden_layer_sizes=(100,80,80,80,80,80,100,), max_iter=100000, learning_rate_init=0.001)\n",
    "acc_scores = []\n",
    "for train_index, val_index in kFold.split(X_train):\n",
    "    x_train, x_val = X_train[train_index], X_train[val_index]\n",
    "    y_train, y_val = Y_train[train_index], Y_train[val_index]\n",
    "    mlpReg.fit(x_train,y_train)\n",
    "    y_val_predict = np.round(np.abs(mlpReg.predict(x_val)));\n",
    "    accu = accuracy_score(np.argmax(y_val, axis=1),np.argmax(y_val_predict, axis=1))\n",
    "    acc = mlpReg.score(x_val, y_val)\n",
    "    acc_scores.append(acc)\n",
    "print(\"mlp regressor accuracy: \", np.mean(acc_scores))\n",
    "y_predict = mlpReg.predict(X_test);\n",
    "fa = accuracy_score(np.argmax(Y_test, axis=1),np.argmax(y_predict, axis=1))\n",
    "print(\"final accuracy: \", fa)"
   ]
  },
  {
   "cell_type": "code",
   "execution_count": null,
   "id": "f7ecd5c6",
   "metadata": {},
   "outputs": [],
   "source": []
  }
 ],
 "metadata": {
  "kernelspec": {
   "display_name": "Python 3",
   "language": "python",
   "name": "python3"
  },
  "language_info": {
   "codemirror_mode": {
    "name": "ipython",
    "version": 3
   },
   "file_extension": ".py",
   "mimetype": "text/x-python",
   "name": "python",
   "nbconvert_exporter": "python",
   "pygments_lexer": "ipython3",
   "version": "3.8.8"
  }
 },
 "nbformat": 4,
 "nbformat_minor": 5
}
