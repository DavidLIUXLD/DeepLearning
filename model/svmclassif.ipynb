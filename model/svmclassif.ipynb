{
 "cells": [
  {
   "cell_type": "code",
   "execution_count": 1,
   "id": "80403bc4",
   "metadata": {},
   "outputs": [],
   "source": [
    "import numpy as np\n",
    "from sklearn.svm import SVC\n",
    "from sklearn.model_selection import train_test_split\n",
    "from sklearn.metrics import confusion_matrix\n",
    "from sklearn.model_selection import KFold\n",
    "from sklearn import metrics\n",
    "from sklearn.preprocessing import StandardScaler\n",
    "from sklearn.metrics import accuracy_score"
   ]
  },
  {
   "cell_type": "code",
   "execution_count": 2,
   "id": "fbc980ef",
   "metadata": {},
   "outputs": [],
   "source": [
    "datasets = [np.loadtxt(\"../Data/tictac_single.txt\"), \\\n",
    "            np.loadtxt(\"../Data/tictac_final.txt\")]"
   ]
  },
  {
   "cell_type": "code",
   "execution_count": 3,
   "id": "b90f0263",
   "metadata": {},
   "outputs": [],
   "source": [
    "kernels = ['sigmoid', 'rbf', 'poly', 'linear', 'sigmoid']\n",
    "kf = KFold(n_splits=10)\n",
    "Cs = np.arange(1,10,1)\n",
    "dataset_names = ['Single', 'Final']"
   ]
  },
  {
   "cell_type": "code",
   "execution_count": null,
   "id": "f50c405f",
   "metadata": {},
   "outputs": [],
   "source": [
    "for ds_cnt, ds in enumerate(datasets):\n",
    "    X = ds[:, :9]\n",
    "    y = ds[:, 9:]\n",
    "    X = StandardScaler().fit_transform(X)\n",
    "    X_train, X_test, y_train, y_test = train_test_split(X, y, test_size=.3)\n",
    "    \n",
    "    CC = 1\n",
    "    kk = \"\"\n",
    "    acc_fold = []\n",
    "    conf_matrix = []\n",
    "    max_a2 = 0\n",
    "    \n",
    "    print(f'Dataset: {dataset_names[ds_cnt]}')\n",
    "    for kernel in kernels:\n",
    "        for C in Cs:\n",
    "            clf = SVC(kernel=kernel, C=C)\n",
    "            f = 1\n",
    "            a2_val = 0\n",
    "            for train_index, validation_index in kf.split(X_train):\n",
    "                X_train2, X_validation = X_train[train_index,:], X_train[validation_index,:]\n",
    "                y_train2, y_validation = y_train[train_index,:], y_train[validation_index,:]\n",
    "                \n",
    "                clf.fit(X_train2, y_train2.ravel())\n",
    "                val_score = clf.score(X_validation, y_validation)\n",
    "                a2_val += val_score\n",
    "                \n",
    "                acc_fold += [a2_val/10]\n",
    "                \n",
    "                if a2_val/10 > max_a2:\n",
    "                    kk = kernel\n",
    "                    CC = C\n",
    "                    max_a2 = a2_val/10\n",
    "                \n",
    "                f += 1\n",
    "    print(f'The chosen kernel function is {kk}\\n'\n",
    "          f'The chosen C value is {CC}\\n'\n",
    "          f'The final score is {np.round(max_a2*100,2)}%')\n",
    "        "
   ]
  },
  {
   "cell_type": "code",
   "execution_count": 7,
   "id": "e7338638",
   "metadata": {},
   "outputs": [
    {
     "name": "stdout",
     "output_type": "stream",
     "text": [
      "Dataset: Single\n",
      "The accuracy score is 89.57%\n"
     ]
    }
   ],
   "source": [
    "conf_matrix = []\n",
    "ds = datasets[0]\n",
    "X = ds[:, :9]\n",
    "y = ds[:, 9:]\n",
    "X = StandardScaler().fit_transform(X)\n",
    "X_train, X_test, y_train, y_test = train_test_split(X, y, test_size=.3)\n",
    "clf = SVC(kernel='rbf', C=9)\n",
    "clf.fit (X_train, y_train.ravel())\n",
    "y_pred = (X_test)\n",
    "score = clf.score(X_test, y_test)\n",
    "print('Dataset: Single')\n",
    "print(f'The accuracy score is {np.round(score * 100, 2)}%')\n",
    "conf_matrix += [confusion_matrix(np.argy_test, y_pred)]"
   ]
  },
  {
   "cell_type": "code",
   "execution_count": 8,
   "id": "cb720908",
   "metadata": {},
   "outputs": [
    {
     "name": "stdout",
     "output_type": "stream",
     "text": [
      "Dataset: Final\n",
      "The accuracy score is 100.0%\n"
     ]
    }
   ],
   "source": [
    "ds = datasets[1]\n",
    "X = ds[:, :9]\n",
    "y = ds[:, 9:]\n",
    "X = StandardScaler().fit_transform(X)\n",
    "X_train, X_test, y_train, y_test = train_test_split(X, y, test_size=.3)\n",
    "clf = SVC(kernel='rbf', C=4)\n",
    "clf.fit (X_train, y_train.ravel())\n",
    "y_pred = (X_test)\n",
    "score = clf.score(X_test, y_test)\n",
    "print('Dataset: Final')\n",
    "print(f'The accuracy score is {np.round(score * 100, 2)}%')\n"
   ]
  },
  {
   "cell_type": "code",
   "execution_count": null,
   "id": "11137c4f",
   "metadata": {},
   "outputs": [],
   "source": []
  }
 ],
 "metadata": {
  "kernelspec": {
   "display_name": "Python 3",
   "language": "python",
   "name": "python3"
  },
  "language_info": {
   "codemirror_mode": {
    "name": "ipython",
    "version": 3
   },
   "file_extension": ".py",
   "mimetype": "text/x-python",
   "name": "python",
   "nbconvert_exporter": "python",
   "pygments_lexer": "ipython3",
   "version": "3.9.4"
  }
 },
 "nbformat": 4,
 "nbformat_minor": 5
}
