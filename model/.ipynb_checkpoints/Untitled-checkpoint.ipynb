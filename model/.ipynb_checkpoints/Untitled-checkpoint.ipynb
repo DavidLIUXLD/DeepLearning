{
 "cells": [
  {
   "cell_type": "code",
   "execution_count": null,
   "id": "5cb153c7",
   "metadata": {},
   "outputs": [],
   "source": [
    "import numpy as np\n",
    "data_singal = np.loadtxt('..\\\\datasets-project1\\\\datasets-part1\\\\tictac_single.txt')\n",
    "\n",
    "Singal_x = data_singal[:,:9]\n",
    "Singal_y = data_singal[:,9:]"
   ]
  }
 ],
 "metadata": {
  "kernelspec": {
   "display_name": "Python 3",
   "language": "python",
   "name": "python3"
  },
  "language_info": {
   "codemirror_mode": {
    "name": "ipython",
    "version": 3
   },
   "file_extension": ".py",
   "mimetype": "text/x-python",
   "name": "python",
   "nbconvert_exporter": "python",
   "pygments_lexer": "ipython3",
   "version": "3.8.8"
  }
 },
 "nbformat": 4,
 "nbformat_minor": 5
}
