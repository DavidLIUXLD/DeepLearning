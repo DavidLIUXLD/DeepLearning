{
 "cells": [
  {
   "cell_type": "markdown",
   "id": "ace117cb",
   "metadata": {},
   "source": [
    "# $\\frac{1}{10}$ data amount\n"
   ]
  },
  {
   "cell_type": "code",
   "execution_count": 1,
   "id": "c0af67a8",
   "metadata": {},
   "outputs": [],
   "source": [
    "import numpy as np\n",
    "import matplotlib.pyplot as plt\n",
    "from sklearn.model_selection import train_test_split\n",
    "from sklearn.preprocessing import StandardScaler\n",
    "from sklearn.neighbors import KNeighborsClassifier\n",
    "from sklearn.metrics import confusion_matrix\n",
    "from sklearn.model_selection import KFold\n",
    "from sklearn import metrics"
   ]
  },
  {
   "cell_type": "code",
   "execution_count": 2,
   "id": "ecdda009",
   "metadata": {},
   "outputs": [],
   "source": [
    "datasets = [np.loadtxt(\"../Data/tictac_single.txt\"), \\\n",
    "            np.loadtxt(\"../Data/tictac_final.txt\")]"
   ]
  },
  {
   "cell_type": "code",
   "execution_count": 3,
   "id": "49282984",
   "metadata": {},
   "outputs": [
    {
     "name": "stdout",
     "output_type": "stream",
     "text": [
      "The accuracy score when using 10% of the data is 50.0%\n"
     ]
    }
   ],
   "source": [
    "ds = datasets[0]\n",
    "X = ds[:, :9]\n",
    "y = ds[:, 9:]\n",
    "X = StandardScaler().fit_transform(X)\n",
    "kk = 31\n",
    "_, X,_, y = train_test_split(X, y, test_size=.1)\n",
    "X_train, X_test, y_train, y_test = train_test_split(X, y, test_size=.2)\n",
    "clf = KNeighborsClassifier(kk, weights='distance')\n",
    "clf.fit(X_train, y_train.ravel())\n",
    "score = clf.score(X_test, y_test)\n",
    "print(f'The accuracy score when using 10% of the data is {np.round(score * 100, 2)}%')"
   ]
  },
  {
   "cell_type": "markdown",
   "id": "37373932",
   "metadata": {},
   "source": [
    "As we can see, having only a tenth of data results in drastically reduced accuracy scores for the k-NN algorithm. As a reference the k-NN classifier had an average accuracy of 86%, compared to the 51.51% accuracy with the reduced data"
   ]
  },
  {
   "cell_type": "markdown",
   "id": "2e93ed5d",
   "metadata": {},
   "source": [
    "# Corrupted/Mislabeled data"
   ]
  },
  {
   "cell_type": "code",
   "execution_count": 4,
   "id": "54883358",
   "metadata": {},
   "outputs": [],
   "source": [
    "def add_noise(y):\n",
    "    indices = np.random.randint(int(0), int(y.shape[0]), int(y.shape[0]/4))\n",
    "    random_vals = np.random.randint(int(np.min(y)), int(np.max(y)), int(y.shape[0]/4))\n",
    "    random_vals = np.reshape(random_vals, (random_vals.shape[0],1))\n",
    "    noisy = np.array(y)\n",
    "    noisy[indices] = random_vals\n",
    "    return noisy"
   ]
  },
  {
   "cell_type": "code",
   "execution_count": 5,
   "id": "9e8bafd1",
   "metadata": {},
   "outputs": [
    {
     "name": "stdout",
     "output_type": "stream",
     "text": [
      "The accuracy score when 25% of the data is corrupted is 77.65%\n"
     ]
    }
   ],
   "source": [
    "s = datasets[0]\n",
    "X = ds[:, :9]\n",
    "y = ds[:, 9:]\n",
    "X = StandardScaler().fit_transform(X)\n",
    "kk = 31\n",
    "X_train, X_test, y_train, y_test = train_test_split(X, y, test_size=.2)\n",
    "noisy_data = add_noise(y_train)\n",
    "clf = KNeighborsClassifier(kk, weights='distance')\n",
    "clf.fit(X_train, noisy_data.ravel())\n",
    "score = clf.score(X_test, y_test)\n",
    "print(f'The accuracy score when 25% of the data is corrupted is {np.round(score * 100, 2)}%')"
   ]
  },
  {
   "cell_type": "markdown",
   "id": "446bd24b",
   "metadata": {},
   "source": [
    "Again, after corrupting the data, the k-NN classifier performs less accurately. Proportional to the amount of data corrupted."
   ]
  },
  {
   "cell_type": "code",
   "execution_count": null,
   "id": "cada0258",
   "metadata": {},
   "outputs": [],
   "source": []
  }
 ],
 "metadata": {
  "kernelspec": {
   "display_name": "Python 3",
   "language": "python",
   "name": "python3"
  },
  "language_info": {
   "codemirror_mode": {
    "name": "ipython",
    "version": 3
   },
   "file_extension": ".py",
   "mimetype": "text/x-python",
   "name": "python",
   "nbconvert_exporter": "python",
   "pygments_lexer": "ipython3",
   "version": "3.9.4"
  }
 },
 "nbformat": 4,
 "nbformat_minor": 5
}
