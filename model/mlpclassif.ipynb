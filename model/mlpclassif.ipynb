{
 "cells": [
  {
   "cell_type": "code",
   "execution_count": 1,
   "id": "04e61aae",
   "metadata": {},
   "outputs": [],
   "source": [
    "import numpy as np\n",
    "from sklearn.neural_network import MLPClassifier\n",
    "from sklearn.model_selection import train_test_split\n",
    "from sklearn.metrics import confusion_matrix\n",
    "from sklearn.model_selection import KFold\n",
    "from sklearn import metrics\n",
    "from sklearn.preprocessing import StandardScaler\n",
    "from sklearn.metrics import accuracy_score"
   ]
  },
  {
   "cell_type": "code",
   "execution_count": 2,
   "id": "8ab9b526",
   "metadata": {},
   "outputs": [],
   "source": [
    "datasets = [np.loadtxt(\"../Data/tictac_single.txt\"), \\\n",
    "            np.loadtxt(\"../Data/tictac_final.txt\")]"
   ]
  },
  {
   "cell_type": "code",
   "execution_count": 3,
   "id": "ec762a78",
   "metadata": {},
   "outputs": [
    {
     "name": "stdout",
     "output_type": "stream",
     "text": [
      "Dataset: Single\n"
     ]
    },
    {
     "name": "stderr",
     "output_type": "stream",
     "text": [
      "C:\\Users\\andre\\anaconda3\\envs\\eee4773\\lib\\site-packages\\sklearn\\neural_network\\_multilayer_perceptron.py:614: ConvergenceWarning: Stochastic Optimizer: Maximum iterations (250) reached and the optimization hasn't converged yet.\n",
      "  warnings.warn(\n"
     ]
    },
    {
     "name": "stdout",
     "output_type": "stream",
     "text": [
      "--------------------------------------\n",
      "Fold 1\n",
      "Hidden Layer Architecture: (75, 50, 25)\n",
      "Learning Rate: 0.01\n",
      "Number of Epochs: 250\n",
      "Train Accuracy = 100.0%\n",
      "Test Accuracy = 85.84%\n",
      "--------------------------------------\n"
     ]
    },
    {
     "name": "stderr",
     "output_type": "stream",
     "text": [
      "C:\\Users\\andre\\anaconda3\\envs\\eee4773\\lib\\site-packages\\sklearn\\neural_network\\_multilayer_perceptron.py:614: ConvergenceWarning: Stochastic Optimizer: Maximum iterations (250) reached and the optimization hasn't converged yet.\n",
      "  warnings.warn(\n"
     ]
    },
    {
     "name": "stdout",
     "output_type": "stream",
     "text": [
      "--------------------------------------\n",
      "Fold 2\n",
      "Hidden Layer Architecture: (75, 50, 25)\n",
      "Learning Rate: 0.01\n",
      "Number of Epochs: 250\n",
      "Train Accuracy = 100.0%\n",
      "Test Accuracy = 87.58%\n",
      "--------------------------------------\n"
     ]
    },
    {
     "name": "stderr",
     "output_type": "stream",
     "text": [
      "C:\\Users\\andre\\anaconda3\\envs\\eee4773\\lib\\site-packages\\sklearn\\neural_network\\_multilayer_perceptron.py:614: ConvergenceWarning: Stochastic Optimizer: Maximum iterations (250) reached and the optimization hasn't converged yet.\n",
      "  warnings.warn(\n"
     ]
    },
    {
     "name": "stdout",
     "output_type": "stream",
     "text": [
      "--------------------------------------\n",
      "Fold 3\n",
      "Hidden Layer Architecture: (75, 50, 25)\n",
      "Learning Rate: 0.01\n",
      "Number of Epochs: 250\n",
      "Train Accuracy = 100.0%\n",
      "Test Accuracy = 88.67%\n",
      "--------------------------------------\n"
     ]
    },
    {
     "name": "stderr",
     "output_type": "stream",
     "text": [
      "C:\\Users\\andre\\anaconda3\\envs\\eee4773\\lib\\site-packages\\sklearn\\neural_network\\_multilayer_perceptron.py:614: ConvergenceWarning: Stochastic Optimizer: Maximum iterations (250) reached and the optimization hasn't converged yet.\n",
      "  warnings.warn(\n"
     ]
    },
    {
     "name": "stdout",
     "output_type": "stream",
     "text": [
      "--------------------------------------\n",
      "Fold 4\n",
      "Hidden Layer Architecture: (75, 50, 25)\n",
      "Learning Rate: 0.01\n",
      "Number of Epochs: 250\n",
      "Train Accuracy = 100.0%\n",
      "Test Accuracy = 87.15%\n",
      "--------------------------------------\n"
     ]
    },
    {
     "name": "stderr",
     "output_type": "stream",
     "text": [
      "C:\\Users\\andre\\anaconda3\\envs\\eee4773\\lib\\site-packages\\sklearn\\neural_network\\_multilayer_perceptron.py:614: ConvergenceWarning: Stochastic Optimizer: Maximum iterations (250) reached and the optimization hasn't converged yet.\n",
      "  warnings.warn(\n"
     ]
    },
    {
     "name": "stdout",
     "output_type": "stream",
     "text": [
      "--------------------------------------\n",
      "Fold 5\n",
      "Hidden Layer Architecture: (75, 50, 25)\n",
      "Learning Rate: 0.01\n",
      "Number of Epochs: 250\n",
      "Train Accuracy = 100.0%\n",
      "Test Accuracy = 89.11%\n",
      "--------------------------------------\n"
     ]
    },
    {
     "name": "stderr",
     "output_type": "stream",
     "text": [
      "C:\\Users\\andre\\anaconda3\\envs\\eee4773\\lib\\site-packages\\sklearn\\neural_network\\_multilayer_perceptron.py:614: ConvergenceWarning: Stochastic Optimizer: Maximum iterations (250) reached and the optimization hasn't converged yet.\n",
      "  warnings.warn(\n"
     ]
    },
    {
     "name": "stdout",
     "output_type": "stream",
     "text": [
      "--------------------------------------\n",
      "Fold 6\n",
      "Hidden Layer Architecture: (75, 50, 25)\n",
      "Learning Rate: 0.01\n",
      "Number of Epochs: 250\n",
      "Train Accuracy = 100.0%\n",
      "Test Accuracy = 90.61%\n",
      "--------------------------------------\n"
     ]
    },
    {
     "name": "stderr",
     "output_type": "stream",
     "text": [
      "C:\\Users\\andre\\anaconda3\\envs\\eee4773\\lib\\site-packages\\sklearn\\neural_network\\_multilayer_perceptron.py:614: ConvergenceWarning: Stochastic Optimizer: Maximum iterations (250) reached and the optimization hasn't converged yet.\n",
      "  warnings.warn(\n"
     ]
    },
    {
     "name": "stdout",
     "output_type": "stream",
     "text": [
      "--------------------------------------\n",
      "Fold 7\n",
      "Hidden Layer Architecture: (75, 50, 25)\n",
      "Learning Rate: 0.01\n",
      "Number of Epochs: 250\n",
      "Train Accuracy = 100.0%\n",
      "Test Accuracy = 89.52%\n",
      "--------------------------------------\n"
     ]
    },
    {
     "name": "stderr",
     "output_type": "stream",
     "text": [
      "C:\\Users\\andre\\anaconda3\\envs\\eee4773\\lib\\site-packages\\sklearn\\neural_network\\_multilayer_perceptron.py:614: ConvergenceWarning: Stochastic Optimizer: Maximum iterations (250) reached and the optimization hasn't converged yet.\n",
      "  warnings.warn(\n"
     ]
    },
    {
     "name": "stdout",
     "output_type": "stream",
     "text": [
      "--------------------------------------\n",
      "Fold 8\n",
      "Hidden Layer Architecture: (75, 50, 25)\n",
      "Learning Rate: 0.01\n",
      "Number of Epochs: 250\n",
      "Train Accuracy = 100.0%\n",
      "Test Accuracy = 89.96%\n",
      "--------------------------------------\n"
     ]
    },
    {
     "name": "stderr",
     "output_type": "stream",
     "text": [
      "C:\\Users\\andre\\anaconda3\\envs\\eee4773\\lib\\site-packages\\sklearn\\neural_network\\_multilayer_perceptron.py:614: ConvergenceWarning: Stochastic Optimizer: Maximum iterations (250) reached and the optimization hasn't converged yet.\n",
      "  warnings.warn(\n"
     ]
    },
    {
     "name": "stdout",
     "output_type": "stream",
     "text": [
      "--------------------------------------\n",
      "Fold 9\n",
      "Hidden Layer Architecture: (75, 50, 25)\n",
      "Learning Rate: 0.01\n",
      "Number of Epochs: 250\n",
      "Train Accuracy = 100.0%\n",
      "Test Accuracy = 88.21%\n",
      "--------------------------------------\n"
     ]
    },
    {
     "name": "stderr",
     "output_type": "stream",
     "text": [
      "C:\\Users\\andre\\anaconda3\\envs\\eee4773\\lib\\site-packages\\sklearn\\neural_network\\_multilayer_perceptron.py:614: ConvergenceWarning: Stochastic Optimizer: Maximum iterations (250) reached and the optimization hasn't converged yet.\n",
      "  warnings.warn(\n"
     ]
    },
    {
     "name": "stdout",
     "output_type": "stream",
     "text": [
      "--------------------------------------\n",
      "Fold 10\n",
      "Hidden Layer Architecture: (75, 50, 25)\n",
      "Learning Rate: 0.01\n",
      "Number of Epochs: 250\n",
      "Train Accuracy = 100.0%\n",
      "Test Accuracy = 89.52%\n",
      "--------------------------------------\n",
      "Average score for all the folds is 0.8861608204659834\n"
     ]
    },
    {
     "name": "stderr",
     "output_type": "stream",
     "text": [
      "C:\\Users\\andre\\anaconda3\\envs\\eee4773\\lib\\site-packages\\sklearn\\neural_network\\_multilayer_perceptron.py:614: ConvergenceWarning: Stochastic Optimizer: Maximum iterations (250) reached and the optimization hasn't converged yet.\n",
      "  warnings.warn(\n"
     ]
    },
    {
     "name": "stdout",
     "output_type": "stream",
     "text": [
      "Final Accuracy score for the MLP: 90.95\n",
      "Dataset: Final\n"
     ]
    },
    {
     "name": "stderr",
     "output_type": "stream",
     "text": [
      "C:\\Users\\andre\\anaconda3\\envs\\eee4773\\lib\\site-packages\\sklearn\\neural_network\\_multilayer_perceptron.py:614: ConvergenceWarning: Stochastic Optimizer: Maximum iterations (250) reached and the optimization hasn't converged yet.\n",
      "  warnings.warn(\n"
     ]
    },
    {
     "name": "stdout",
     "output_type": "stream",
     "text": [
      "--------------------------------------\n",
      "Fold 1\n",
      "Hidden Layer Architecture: (75, 50, 25)\n",
      "Learning Rate: 0.01\n",
      "Number of Epochs: 250\n",
      "Train Accuracy = 100.0%\n",
      "Test Accuracy = 100.0%\n",
      "--------------------------------------\n"
     ]
    },
    {
     "name": "stderr",
     "output_type": "stream",
     "text": [
      "C:\\Users\\andre\\anaconda3\\envs\\eee4773\\lib\\site-packages\\sklearn\\neural_network\\_multilayer_perceptron.py:614: ConvergenceWarning: Stochastic Optimizer: Maximum iterations (250) reached and the optimization hasn't converged yet.\n",
      "  warnings.warn(\n"
     ]
    },
    {
     "name": "stdout",
     "output_type": "stream",
     "text": [
      "--------------------------------------\n",
      "Fold 2\n",
      "Hidden Layer Architecture: (75, 50, 25)\n",
      "Learning Rate: 0.01\n",
      "Number of Epochs: 250\n",
      "Train Accuracy = 100.0%\n",
      "Test Accuracy = 98.51%\n",
      "--------------------------------------\n"
     ]
    },
    {
     "name": "stderr",
     "output_type": "stream",
     "text": [
      "C:\\Users\\andre\\anaconda3\\envs\\eee4773\\lib\\site-packages\\sklearn\\neural_network\\_multilayer_perceptron.py:614: ConvergenceWarning: Stochastic Optimizer: Maximum iterations (250) reached and the optimization hasn't converged yet.\n",
      "  warnings.warn(\n"
     ]
    },
    {
     "name": "stdout",
     "output_type": "stream",
     "text": [
      "--------------------------------------\n",
      "Fold 3\n",
      "Hidden Layer Architecture: (75, 50, 25)\n",
      "Learning Rate: 0.01\n",
      "Number of Epochs: 250\n",
      "Train Accuracy = 100.0%\n",
      "Test Accuracy = 95.52%\n",
      "--------------------------------------\n"
     ]
    },
    {
     "name": "stderr",
     "output_type": "stream",
     "text": [
      "C:\\Users\\andre\\anaconda3\\envs\\eee4773\\lib\\site-packages\\sklearn\\neural_network\\_multilayer_perceptron.py:614: ConvergenceWarning: Stochastic Optimizer: Maximum iterations (250) reached and the optimization hasn't converged yet.\n",
      "  warnings.warn(\n"
     ]
    },
    {
     "name": "stdout",
     "output_type": "stream",
     "text": [
      "--------------------------------------\n",
      "Fold 4\n",
      "Hidden Layer Architecture: (75, 50, 25)\n",
      "Learning Rate: 0.01\n",
      "Number of Epochs: 250\n",
      "Train Accuracy = 100.0%\n",
      "Test Accuracy = 98.51%\n",
      "--------------------------------------\n"
     ]
    },
    {
     "name": "stderr",
     "output_type": "stream",
     "text": [
      "C:\\Users\\andre\\anaconda3\\envs\\eee4773\\lib\\site-packages\\sklearn\\neural_network\\_multilayer_perceptron.py:614: ConvergenceWarning: Stochastic Optimizer: Maximum iterations (250) reached and the optimization hasn't converged yet.\n",
      "  warnings.warn(\n"
     ]
    },
    {
     "name": "stdout",
     "output_type": "stream",
     "text": [
      "--------------------------------------\n",
      "Fold 5\n",
      "Hidden Layer Architecture: (75, 50, 25)\n",
      "Learning Rate: 0.01\n",
      "Number of Epochs: 250\n",
      "Train Accuracy = 100.0%\n",
      "Test Accuracy = 100.0%\n",
      "--------------------------------------\n"
     ]
    },
    {
     "name": "stderr",
     "output_type": "stream",
     "text": [
      "C:\\Users\\andre\\anaconda3\\envs\\eee4773\\lib\\site-packages\\sklearn\\neural_network\\_multilayer_perceptron.py:614: ConvergenceWarning: Stochastic Optimizer: Maximum iterations (250) reached and the optimization hasn't converged yet.\n",
      "  warnings.warn(\n"
     ]
    },
    {
     "name": "stdout",
     "output_type": "stream",
     "text": [
      "--------------------------------------\n",
      "Fold 6\n",
      "Hidden Layer Architecture: (75, 50, 25)\n",
      "Learning Rate: 0.01\n",
      "Number of Epochs: 250\n",
      "Train Accuracy = 100.0%\n",
      "Test Accuracy = 100.0%\n",
      "--------------------------------------\n"
     ]
    },
    {
     "name": "stderr",
     "output_type": "stream",
     "text": [
      "C:\\Users\\andre\\anaconda3\\envs\\eee4773\\lib\\site-packages\\sklearn\\neural_network\\_multilayer_perceptron.py:614: ConvergenceWarning: Stochastic Optimizer: Maximum iterations (250) reached and the optimization hasn't converged yet.\n",
      "  warnings.warn(\n"
     ]
    },
    {
     "name": "stdout",
     "output_type": "stream",
     "text": [
      "--------------------------------------\n",
      "Fold 7\n",
      "Hidden Layer Architecture: (75, 50, 25)\n",
      "Learning Rate: 0.01\n",
      "Number of Epochs: 250\n",
      "Train Accuracy = 100.0%\n",
      "Test Accuracy = 100.0%\n",
      "--------------------------------------\n"
     ]
    },
    {
     "name": "stderr",
     "output_type": "stream",
     "text": [
      "C:\\Users\\andre\\anaconda3\\envs\\eee4773\\lib\\site-packages\\sklearn\\neural_network\\_multilayer_perceptron.py:614: ConvergenceWarning: Stochastic Optimizer: Maximum iterations (250) reached and the optimization hasn't converged yet.\n",
      "  warnings.warn(\n"
     ]
    },
    {
     "name": "stdout",
     "output_type": "stream",
     "text": [
      "--------------------------------------\n",
      "Fold 8\n",
      "Hidden Layer Architecture: (75, 50, 25)\n",
      "Learning Rate: 0.01\n",
      "Number of Epochs: 250\n",
      "Train Accuracy = 100.0%\n",
      "Test Accuracy = 97.01%\n",
      "--------------------------------------\n"
     ]
    },
    {
     "name": "stderr",
     "output_type": "stream",
     "text": [
      "C:\\Users\\andre\\anaconda3\\envs\\eee4773\\lib\\site-packages\\sklearn\\neural_network\\_multilayer_perceptron.py:614: ConvergenceWarning: Stochastic Optimizer: Maximum iterations (250) reached and the optimization hasn't converged yet.\n",
      "  warnings.warn(\n"
     ]
    },
    {
     "name": "stdout",
     "output_type": "stream",
     "text": [
      "--------------------------------------\n",
      "Fold 9\n",
      "Hidden Layer Architecture: (75, 50, 25)\n",
      "Learning Rate: 0.01\n",
      "Number of Epochs: 250\n",
      "Train Accuracy = 100.0%\n",
      "Test Accuracy = 100.0%\n",
      "--------------------------------------\n"
     ]
    },
    {
     "name": "stderr",
     "output_type": "stream",
     "text": [
      "C:\\Users\\andre\\anaconda3\\envs\\eee4773\\lib\\site-packages\\sklearn\\neural_network\\_multilayer_perceptron.py:614: ConvergenceWarning: Stochastic Optimizer: Maximum iterations (250) reached and the optimization hasn't converged yet.\n",
      "  warnings.warn(\n"
     ]
    },
    {
     "name": "stdout",
     "output_type": "stream",
     "text": [
      "--------------------------------------\n",
      "Fold 10\n",
      "Hidden Layer Architecture: (75, 50, 25)\n",
      "Learning Rate: 0.01\n",
      "Number of Epochs: 250\n",
      "Train Accuracy = 100.0%\n",
      "Test Accuracy = 98.51%\n",
      "--------------------------------------\n",
      "Average score for all the folds is 0.9880597014925373\n",
      "Final Accuracy score for the MLP: 97.92\n"
     ]
    },
    {
     "name": "stderr",
     "output_type": "stream",
     "text": [
      "C:\\Users\\andre\\anaconda3\\envs\\eee4773\\lib\\site-packages\\sklearn\\neural_network\\_multilayer_perceptron.py:614: ConvergenceWarning: Stochastic Optimizer: Maximum iterations (250) reached and the optimization hasn't converged yet.\n",
      "  warnings.warn(\n"
     ]
    }
   ],
   "source": [
    "kf = KFold(n_splits=10)\n",
    "\n",
    "net_hidden_layers = (75, 50, 25)\n",
    "net_learning_rate = 0.01\n",
    "epochs = 250\n",
    "datasets_names = ['Single', 'Final']\n",
    "\n",
    "\n",
    "for ds_cnt, ds in enumerate(datasets):\n",
    "    X = ds[:, :9]\n",
    "    y = ds[:, 9:]\n",
    "    X = StandardScaler().fit_transform(X)\n",
    "    X_train, X_test, y_train, y_test = train_test_split(X, y, test_size=.3)\n",
    "    \n",
    "    net = MLPClassifier(activation='tanh',\n",
    "                    n_iter_no_change=1000)\n",
    "    \n",
    "    net.set_params(hidden_layer_sizes=net_hidden_layers, \n",
    "                       learning_rate_init=net_learning_rate,\n",
    "                       max_iter=epochs)\n",
    "    f = 1\n",
    "    avg_score = 0\n",
    "    print(f'Dataset: {datasets_names[ds_cnt]}')\n",
    "    for train_index, validation_index in kf.split(X_train):\n",
    "        X_train2, X_validation = X_train[train_index,:], X_train[validation_index,:]\n",
    "        y_train2, y_validation = y_train[train_index,:], y_train[validation_index,:]\n",
    "        \n",
    "        \n",
    "        net.fit(X_train2, y_train2.ravel())\n",
    "        y_train_pred = net.predict(X_train2)\n",
    "        y_val_pred = net.predict(X_validation)\n",
    "        acc_score = accuracy_score(y_train2, y_train_pred)\n",
    "        test_score = accuracy_score(y_validation, y_val_pred)\n",
    "        \n",
    "        print('--------------------------------------')\n",
    "        print(f'Fold {f}')\n",
    "        print(f'Hidden Layer Architecture: {net_hidden_layers}')\n",
    "        print(f'Learning Rate: {net_learning_rate}')\n",
    "        print(f'Number of Epochs: {epochs}')\n",
    "        print(f'Train Accuracy = {np.round(acc_score*100,2)}%')\n",
    "        print(f'Test Accuracy = {np.round(test_score*100,2)}%')\n",
    "        print('--------------------------------------')\n",
    "        \n",
    "        avg_score += test_score\n",
    "        f += 1\n",
    "        \n",
    "    avg_score /= 10\n",
    "    print(f'Average score for all the folds is {avg_score}')\n",
    "    \n",
    "    final_net = MLPClassifier(activation='tanh',\n",
    "                              n_iter_no_change=1000)\n",
    "    \n",
    "    final_net.set_params(hidden_layer_sizes=net_hidden_layers, \n",
    "                         learning_rate_init=net_learning_rate,\n",
    "                         max_iter=epochs)\n",
    "    \n",
    "    final_net.fit(X_train, y_train.ravel())\n",
    "    final_pred = final_net.predict(X_test)\n",
    "    final_acc = accuracy_score(y_test, final_pred)\n",
    "    print(f'Final Accuracy score for the MLP: {np.round(final_acc*100, 2)}')\n",
    "    "
   ]
  },
  {
   "cell_type": "code",
   "execution_count": null,
   "id": "af231352",
   "metadata": {},
   "outputs": [],
   "source": []
  }
 ],
 "metadata": {
  "kernelspec": {
   "display_name": "Python 3",
   "language": "python",
   "name": "python3"
  },
  "language_info": {
   "codemirror_mode": {
    "name": "ipython",
    "version": 3
   },
   "file_extension": ".py",
   "mimetype": "text/x-python",
   "name": "python",
   "nbconvert_exporter": "python",
   "pygments_lexer": "ipython3",
   "version": "3.9.4"
  }
 },
 "nbformat": 4,
 "nbformat_minor": 5
}
