{
 "cells": [
  {
   "cell_type": "code",
   "execution_count": 2,
   "id": "04e61aae",
   "metadata": {},
   "outputs": [],
   "source": [
    "import numpy as np\n",
    "from sklearn.neural_network import MLPClassifier\n",
    "from sklearn.model_selection import train_test_split\n",
    "from sklearn.metrics import confusion_matrix\n",
    "from sklearn.model_selection import KFold\n",
    "from sklearn import metrics\n",
    "from sklearn.preprocessing import StandardScaler\n",
    "from sklearn.metrics import accuracy_score"
   ]
  },
  {
   "cell_type": "code",
   "execution_count": 3,
   "id": "8ab9b526",
   "metadata": {},
   "outputs": [],
   "source": [
    "datasets = [np.loadtxt(\"../Data/tictac_single.txt\"), \\\n",
    "            np.loadtxt(\"../Data/tictac_final.txt\")]"
   ]
  },
  {
   "cell_type": "code",
   "execution_count": 6,
   "id": "ec762a78",
   "metadata": {},
   "outputs": [
    {
     "name": "stdout",
     "output_type": "stream",
     "text": [
      "Dataset: Single\n"
     ]
    },
    {
     "name": "stderr",
     "output_type": "stream",
     "text": [
      "C:\\Users\\andre\\anaconda3\\envs\\eee4773\\lib\\site-packages\\sklearn\\neural_network\\_multilayer_perceptron.py:614: ConvergenceWarning: Stochastic Optimizer: Maximum iterations (250) reached and the optimization hasn't converged yet.\n",
      "  warnings.warn(\n"
     ]
    },
    {
     "name": "stdout",
     "output_type": "stream",
     "text": [
      "--------------------------------------\n",
      "Fold 1\n",
      "Hidden Layer Architecture: (75, 50, 25)\n",
      "Learning Rate: 0.01\n",
      "Number of Epochs: 250\n",
      "Train Accuracy = 100.0%\n",
      "Test Accuracy = 88.45%\n",
      "--------------------------------------\n"
     ]
    },
    {
     "name": "stderr",
     "output_type": "stream",
     "text": [
      "C:\\Users\\andre\\anaconda3\\envs\\eee4773\\lib\\site-packages\\sklearn\\neural_network\\_multilayer_perceptron.py:614: ConvergenceWarning: Stochastic Optimizer: Maximum iterations (250) reached and the optimization hasn't converged yet.\n",
      "  warnings.warn(\n"
     ]
    },
    {
     "name": "stdout",
     "output_type": "stream",
     "text": [
      "--------------------------------------\n",
      "Fold 2\n",
      "Hidden Layer Architecture: (75, 50, 25)\n",
      "Learning Rate: 0.01\n",
      "Number of Epochs: 250\n",
      "Train Accuracy = 100.0%\n",
      "Test Accuracy = 91.07%\n",
      "--------------------------------------\n"
     ]
    },
    {
     "name": "stderr",
     "output_type": "stream",
     "text": [
      "C:\\Users\\andre\\anaconda3\\envs\\eee4773\\lib\\site-packages\\sklearn\\neural_network\\_multilayer_perceptron.py:614: ConvergenceWarning: Stochastic Optimizer: Maximum iterations (250) reached and the optimization hasn't converged yet.\n",
      "  warnings.warn(\n"
     ]
    },
    {
     "name": "stdout",
     "output_type": "stream",
     "text": [
      "--------------------------------------\n",
      "Fold 3\n",
      "Hidden Layer Architecture: (75, 50, 25)\n",
      "Learning Rate: 0.01\n",
      "Number of Epochs: 250\n",
      "Train Accuracy = 100.0%\n",
      "Test Accuracy = 87.58%\n",
      "--------------------------------------\n"
     ]
    },
    {
     "name": "stderr",
     "output_type": "stream",
     "text": [
      "C:\\Users\\andre\\anaconda3\\envs\\eee4773\\lib\\site-packages\\sklearn\\neural_network\\_multilayer_perceptron.py:614: ConvergenceWarning: Stochastic Optimizer: Maximum iterations (250) reached and the optimization hasn't converged yet.\n",
      "  warnings.warn(\n"
     ]
    },
    {
     "name": "stdout",
     "output_type": "stream",
     "text": [
      "--------------------------------------\n",
      "Fold 4\n",
      "Hidden Layer Architecture: (75, 50, 25)\n",
      "Learning Rate: 0.01\n",
      "Number of Epochs: 250\n",
      "Train Accuracy = 100.0%\n",
      "Test Accuracy = 86.27%\n",
      "--------------------------------------\n"
     ]
    },
    {
     "name": "stderr",
     "output_type": "stream",
     "text": [
      "C:\\Users\\andre\\anaconda3\\envs\\eee4773\\lib\\site-packages\\sklearn\\neural_network\\_multilayer_perceptron.py:614: ConvergenceWarning: Stochastic Optimizer: Maximum iterations (250) reached and the optimization hasn't converged yet.\n",
      "  warnings.warn(\n"
     ]
    },
    {
     "name": "stdout",
     "output_type": "stream",
     "text": [
      "--------------------------------------\n",
      "Fold 5\n",
      "Hidden Layer Architecture: (75, 50, 25)\n",
      "Learning Rate: 0.01\n",
      "Number of Epochs: 250\n",
      "Train Accuracy = 100.0%\n",
      "Test Accuracy = 89.54%\n",
      "--------------------------------------\n"
     ]
    },
    {
     "name": "stderr",
     "output_type": "stream",
     "text": [
      "C:\\Users\\andre\\anaconda3\\envs\\eee4773\\lib\\site-packages\\sklearn\\neural_network\\_multilayer_perceptron.py:614: ConvergenceWarning: Stochastic Optimizer: Maximum iterations (250) reached and the optimization hasn't converged yet.\n",
      "  warnings.warn(\n"
     ]
    },
    {
     "name": "stdout",
     "output_type": "stream",
     "text": [
      "--------------------------------------\n",
      "Fold 6\n",
      "Hidden Layer Architecture: (75, 50, 25)\n",
      "Learning Rate: 0.01\n",
      "Number of Epochs: 250\n",
      "Train Accuracy = 100.0%\n",
      "Test Accuracy = 88.21%\n",
      "--------------------------------------\n"
     ]
    },
    {
     "name": "stderr",
     "output_type": "stream",
     "text": [
      "C:\\Users\\andre\\anaconda3\\envs\\eee4773\\lib\\site-packages\\sklearn\\neural_network\\_multilayer_perceptron.py:614: ConvergenceWarning: Stochastic Optimizer: Maximum iterations (250) reached and the optimization hasn't converged yet.\n",
      "  warnings.warn(\n"
     ]
    },
    {
     "name": "stdout",
     "output_type": "stream",
     "text": [
      "--------------------------------------\n",
      "Fold 7\n",
      "Hidden Layer Architecture: (75, 50, 25)\n",
      "Learning Rate: 0.01\n",
      "Number of Epochs: 250\n",
      "Train Accuracy = 100.0%\n",
      "Test Accuracy = 87.12%\n",
      "--------------------------------------\n"
     ]
    },
    {
     "name": "stderr",
     "output_type": "stream",
     "text": [
      "C:\\Users\\andre\\anaconda3\\envs\\eee4773\\lib\\site-packages\\sklearn\\neural_network\\_multilayer_perceptron.py:614: ConvergenceWarning: Stochastic Optimizer: Maximum iterations (250) reached and the optimization hasn't converged yet.\n",
      "  warnings.warn(\n"
     ]
    },
    {
     "name": "stdout",
     "output_type": "stream",
     "text": [
      "--------------------------------------\n",
      "Fold 8\n",
      "Hidden Layer Architecture: (75, 50, 25)\n",
      "Learning Rate: 0.01\n",
      "Number of Epochs: 250\n",
      "Train Accuracy = 100.0%\n",
      "Test Accuracy = 88.21%\n",
      "--------------------------------------\n"
     ]
    },
    {
     "name": "stderr",
     "output_type": "stream",
     "text": [
      "C:\\Users\\andre\\anaconda3\\envs\\eee4773\\lib\\site-packages\\sklearn\\neural_network\\_multilayer_perceptron.py:614: ConvergenceWarning: Stochastic Optimizer: Maximum iterations (250) reached and the optimization hasn't converged yet.\n",
      "  warnings.warn(\n"
     ]
    },
    {
     "name": "stdout",
     "output_type": "stream",
     "text": [
      "--------------------------------------\n",
      "Fold 9\n",
      "Hidden Layer Architecture: (75, 50, 25)\n",
      "Learning Rate: 0.01\n",
      "Number of Epochs: 250\n",
      "Train Accuracy = 100.0%\n",
      "Test Accuracy = 88.86%\n",
      "--------------------------------------\n"
     ]
    },
    {
     "name": "stderr",
     "output_type": "stream",
     "text": [
      "C:\\Users\\andre\\anaconda3\\envs\\eee4773\\lib\\site-packages\\sklearn\\neural_network\\_multilayer_perceptron.py:614: ConvergenceWarning: Stochastic Optimizer: Maximum iterations (250) reached and the optimization hasn't converged yet.\n",
      "  warnings.warn(\n"
     ]
    },
    {
     "name": "stdout",
     "output_type": "stream",
     "text": [
      "--------------------------------------\n",
      "Fold 10\n",
      "Hidden Layer Architecture: (75, 50, 25)\n",
      "Learning Rate: 0.01\n",
      "Number of Epochs: 250\n",
      "Train Accuracy = 100.0%\n",
      "Test Accuracy = 87.99%\n",
      "--------------------------------------\n",
      "Average score for all the folds is 0.8833124030786502\n"
     ]
    },
    {
     "name": "stderr",
     "output_type": "stream",
     "text": [
      "C:\\Users\\andre\\anaconda3\\envs\\eee4773\\lib\\site-packages\\sklearn\\neural_network\\_multilayer_perceptron.py:614: ConvergenceWarning: Stochastic Optimizer: Maximum iterations (250) reached and the optimization hasn't converged yet.\n",
      "  warnings.warn(\n"
     ]
    },
    {
     "name": "stdout",
     "output_type": "stream",
     "text": [
      "Final Accuracy score for the MLP: 90.18\n",
      "Dataset: Final\n"
     ]
    },
    {
     "name": "stderr",
     "output_type": "stream",
     "text": [
      "C:\\Users\\andre\\anaconda3\\envs\\eee4773\\lib\\site-packages\\sklearn\\neural_network\\_multilayer_perceptron.py:614: ConvergenceWarning: Stochastic Optimizer: Maximum iterations (250) reached and the optimization hasn't converged yet.\n",
      "  warnings.warn(\n"
     ]
    },
    {
     "name": "stdout",
     "output_type": "stream",
     "text": [
      "--------------------------------------\n",
      "Fold 1\n",
      "Hidden Layer Architecture: (75, 50, 25)\n",
      "Learning Rate: 0.01\n",
      "Number of Epochs: 250\n",
      "Train Accuracy = 100.0%\n",
      "Test Accuracy = 98.51%\n",
      "--------------------------------------\n"
     ]
    },
    {
     "name": "stderr",
     "output_type": "stream",
     "text": [
      "C:\\Users\\andre\\anaconda3\\envs\\eee4773\\lib\\site-packages\\sklearn\\neural_network\\_multilayer_perceptron.py:614: ConvergenceWarning: Stochastic Optimizer: Maximum iterations (250) reached and the optimization hasn't converged yet.\n",
      "  warnings.warn(\n"
     ]
    },
    {
     "name": "stdout",
     "output_type": "stream",
     "text": [
      "--------------------------------------\n",
      "Fold 2\n",
      "Hidden Layer Architecture: (75, 50, 25)\n",
      "Learning Rate: 0.01\n",
      "Number of Epochs: 250\n",
      "Train Accuracy = 100.0%\n",
      "Test Accuracy = 98.51%\n",
      "--------------------------------------\n"
     ]
    },
    {
     "name": "stderr",
     "output_type": "stream",
     "text": [
      "C:\\Users\\andre\\anaconda3\\envs\\eee4773\\lib\\site-packages\\sklearn\\neural_network\\_multilayer_perceptron.py:614: ConvergenceWarning: Stochastic Optimizer: Maximum iterations (250) reached and the optimization hasn't converged yet.\n",
      "  warnings.warn(\n"
     ]
    },
    {
     "name": "stdout",
     "output_type": "stream",
     "text": [
      "--------------------------------------\n",
      "Fold 3\n",
      "Hidden Layer Architecture: (75, 50, 25)\n",
      "Learning Rate: 0.01\n",
      "Number of Epochs: 250\n",
      "Train Accuracy = 100.0%\n",
      "Test Accuracy = 98.51%\n",
      "--------------------------------------\n"
     ]
    },
    {
     "name": "stderr",
     "output_type": "stream",
     "text": [
      "C:\\Users\\andre\\anaconda3\\envs\\eee4773\\lib\\site-packages\\sklearn\\neural_network\\_multilayer_perceptron.py:614: ConvergenceWarning: Stochastic Optimizer: Maximum iterations (250) reached and the optimization hasn't converged yet.\n",
      "  warnings.warn(\n"
     ]
    },
    {
     "name": "stdout",
     "output_type": "stream",
     "text": [
      "--------------------------------------\n",
      "Fold 4\n",
      "Hidden Layer Architecture: (75, 50, 25)\n",
      "Learning Rate: 0.01\n",
      "Number of Epochs: 250\n",
      "Train Accuracy = 100.0%\n",
      "Test Accuracy = 100.0%\n",
      "--------------------------------------\n"
     ]
    },
    {
     "name": "stderr",
     "output_type": "stream",
     "text": [
      "C:\\Users\\andre\\anaconda3\\envs\\eee4773\\lib\\site-packages\\sklearn\\neural_network\\_multilayer_perceptron.py:614: ConvergenceWarning: Stochastic Optimizer: Maximum iterations (250) reached and the optimization hasn't converged yet.\n",
      "  warnings.warn(\n"
     ]
    },
    {
     "name": "stdout",
     "output_type": "stream",
     "text": [
      "--------------------------------------\n",
      "Fold 5\n",
      "Hidden Layer Architecture: (75, 50, 25)\n",
      "Learning Rate: 0.01\n",
      "Number of Epochs: 250\n",
      "Train Accuracy = 100.0%\n",
      "Test Accuracy = 98.51%\n",
      "--------------------------------------\n"
     ]
    },
    {
     "name": "stderr",
     "output_type": "stream",
     "text": [
      "C:\\Users\\andre\\anaconda3\\envs\\eee4773\\lib\\site-packages\\sklearn\\neural_network\\_multilayer_perceptron.py:614: ConvergenceWarning: Stochastic Optimizer: Maximum iterations (250) reached and the optimization hasn't converged yet.\n",
      "  warnings.warn(\n"
     ]
    },
    {
     "name": "stdout",
     "output_type": "stream",
     "text": [
      "--------------------------------------\n",
      "Fold 6\n",
      "Hidden Layer Architecture: (75, 50, 25)\n",
      "Learning Rate: 0.01\n",
      "Number of Epochs: 250\n",
      "Train Accuracy = 100.0%\n",
      "Test Accuracy = 97.01%\n",
      "--------------------------------------\n"
     ]
    },
    {
     "name": "stderr",
     "output_type": "stream",
     "text": [
      "C:\\Users\\andre\\anaconda3\\envs\\eee4773\\lib\\site-packages\\sklearn\\neural_network\\_multilayer_perceptron.py:614: ConvergenceWarning: Stochastic Optimizer: Maximum iterations (250) reached and the optimization hasn't converged yet.\n",
      "  warnings.warn(\n"
     ]
    },
    {
     "name": "stdout",
     "output_type": "stream",
     "text": [
      "--------------------------------------\n",
      "Fold 7\n",
      "Hidden Layer Architecture: (75, 50, 25)\n",
      "Learning Rate: 0.01\n",
      "Number of Epochs: 250\n",
      "Train Accuracy = 100.0%\n",
      "Test Accuracy = 98.51%\n",
      "--------------------------------------\n"
     ]
    },
    {
     "name": "stderr",
     "output_type": "stream",
     "text": [
      "C:\\Users\\andre\\anaconda3\\envs\\eee4773\\lib\\site-packages\\sklearn\\neural_network\\_multilayer_perceptron.py:614: ConvergenceWarning: Stochastic Optimizer: Maximum iterations (250) reached and the optimization hasn't converged yet.\n",
      "  warnings.warn(\n"
     ]
    },
    {
     "name": "stdout",
     "output_type": "stream",
     "text": [
      "--------------------------------------\n",
      "Fold 8\n",
      "Hidden Layer Architecture: (75, 50, 25)\n",
      "Learning Rate: 0.01\n",
      "Number of Epochs: 250\n",
      "Train Accuracy = 100.0%\n",
      "Test Accuracy = 98.51%\n",
      "--------------------------------------\n"
     ]
    },
    {
     "name": "stderr",
     "output_type": "stream",
     "text": [
      "C:\\Users\\andre\\anaconda3\\envs\\eee4773\\lib\\site-packages\\sklearn\\neural_network\\_multilayer_perceptron.py:614: ConvergenceWarning: Stochastic Optimizer: Maximum iterations (250) reached and the optimization hasn't converged yet.\n",
      "  warnings.warn(\n"
     ]
    },
    {
     "name": "stdout",
     "output_type": "stream",
     "text": [
      "--------------------------------------\n",
      "Fold 9\n",
      "Hidden Layer Architecture: (75, 50, 25)\n",
      "Learning Rate: 0.01\n",
      "Number of Epochs: 250\n",
      "Train Accuracy = 100.0%\n",
      "Test Accuracy = 97.01%\n",
      "--------------------------------------\n"
     ]
    },
    {
     "name": "stderr",
     "output_type": "stream",
     "text": [
      "C:\\Users\\andre\\anaconda3\\envs\\eee4773\\lib\\site-packages\\sklearn\\neural_network\\_multilayer_perceptron.py:614: ConvergenceWarning: Stochastic Optimizer: Maximum iterations (250) reached and the optimization hasn't converged yet.\n",
      "  warnings.warn(\n"
     ]
    },
    {
     "name": "stdout",
     "output_type": "stream",
     "text": [
      "--------------------------------------\n",
      "Fold 10\n",
      "Hidden Layer Architecture: (75, 50, 25)\n",
      "Learning Rate: 0.01\n",
      "Number of Epochs: 250\n",
      "Train Accuracy = 100.0%\n",
      "Test Accuracy = 98.51%\n",
      "--------------------------------------\n",
      "Average score for all the folds is 0.9835820895522387\n",
      "Final Accuracy score for the MLP: 98.96\n"
     ]
    },
    {
     "name": "stderr",
     "output_type": "stream",
     "text": [
      "C:\\Users\\andre\\anaconda3\\envs\\eee4773\\lib\\site-packages\\sklearn\\neural_network\\_multilayer_perceptron.py:614: ConvergenceWarning: Stochastic Optimizer: Maximum iterations (250) reached and the optimization hasn't converged yet.\n",
      "  warnings.warn(\n"
     ]
    }
   ],
   "source": [
    "kf = KFold(n_splits=10)\n",
    "\n",
    "net_hidden_layers = (75, 50, 25)\n",
    "net_learning_rate = 0.01\n",
    "epochs = 250\n",
    "datasets_names = ['Single', 'Final']\n",
    "conf_matrix = []\n",
    "\n",
    "for ds_cnt, ds in enumerate(datasets):\n",
    "    X = ds[:, :9]\n",
    "    y = ds[:, 9:]\n",
    "    X = StandardScaler().fit_transform(X)\n",
    "    X_train, X_test, y_train, y_test = train_test_split(X, y, test_size=.3)\n",
    "    \n",
    "    net = MLPClassifier(activation='tanh',\n",
    "                    n_iter_no_change=1000)\n",
    "    \n",
    "    net.set_params(hidden_layer_sizes=net_hidden_layers, \n",
    "                       learning_rate_init=net_learning_rate,\n",
    "                       max_iter=epochs)\n",
    "    f = 1\n",
    "    avg_score = 0\n",
    "    print(f'Dataset: {datasets_names[ds_cnt]}')\n",
    "    for train_index, validation_index in kf.split(X_train):\n",
    "        X_train2, X_validation = X_train[train_index,:], X_train[validation_index,:]\n",
    "        y_train2, y_validation = y_train[train_index,:], y_train[validation_index,:]\n",
    "        \n",
    "        \n",
    "        net.fit(X_train2, y_train2.ravel())\n",
    "        y_train_pred = net.predict(X_train2)\n",
    "        y_val_pred = net.predict(X_validation)\n",
    "        acc_score = accuracy_score(y_train2, y_train_pred)\n",
    "        test_score = accuracy_score(y_validation, y_val_pred)\n",
    "        \n",
    "        print('--------------------------------------')\n",
    "        print(f'Fold {f}')\n",
    "        print(f'Hidden Layer Architecture: {net_hidden_layers}')\n",
    "        print(f'Learning Rate: {net_learning_rate}')\n",
    "        print(f'Number of Epochs: {epochs}')\n",
    "        print(f'Train Accuracy = {np.round(acc_score*100,2)}%')\n",
    "        print(f'Test Accuracy = {np.round(test_score*100,2)}%')\n",
    "        print('--------------------------------------')\n",
    "        \n",
    "        avg_score += test_score\n",
    "        f += 1\n",
    "        \n",
    "    avg_score /= 10\n",
    "    print(f'Average score for all the folds is {avg_score}')\n",
    "    \n",
    "    final_net = MLPClassifier(activation='tanh',\n",
    "                              n_iter_no_change=1000)\n",
    "    \n",
    "    final_net.set_params(hidden_layer_sizes=net_hidden_layers, \n",
    "                         learning_rate_init=net_learning_rate,\n",
    "                         max_iter=epochs)\n",
    "    \n",
    "    final_net.fit(X_train, y_train.ravel())\n",
    "    final_pred = final_net.predict(X_test)\n",
    "    final_acc = accuracy_score(y_test, final_pred)\n",
    "    print(f'Final Accuracy score for the MLP: {np.round(final_acc*100, 2)}')\n",
    "    conf_matrix += [confusion_matrix(y_test, final_pred, normalize='true')]\n",
    "    "
   ]
  },
  {
   "cell_type": "code",
   "execution_count": 7,
   "id": "af231352",
   "metadata": {},
   "outputs": [
    {
     "name": "stdout",
     "output_type": "stream",
     "text": [
      "Confusion matrix for the \"Single\" dataset:\n",
      "[[0.93487395 0.00630252 0.0105042  0.00210084 0.01260504 0.00420168\n",
      "  0.01890756 0.00420168 0.00630252]\n",
      " [0.00359712 0.85251799 0.04676259 0.03597122 0.01438849 0.00359712\n",
      "  0.02517986 0.01079137 0.00719424]\n",
      " [0.01779359 0.03202847 0.88967972 0.01067616 0.02491103 0.\n",
      "  0.01423488 0.         0.01067616]\n",
      " [0.02484472 0.01242236 0.02484472 0.85093168 0.0310559  0.01242236\n",
      "  0.0310559  0.00621118 0.00621118]\n",
      " [0.00675676 0.02364865 0.00675676 0.02027027 0.93243243 0.\n",
      "  0.00675676 0.         0.00337838]\n",
      " [0.         0.01904762 0.         0.04761905 0.00952381 0.87619048\n",
      "  0.00952381 0.00952381 0.02857143]\n",
      " [0.00591716 0.00591716 0.01183432 0.03550296 0.01775148 0.00591716\n",
      "  0.89940828 0.01183432 0.00591716]\n",
      " [0.01369863 0.01369863 0.         0.         0.         0.01369863\n",
      "  0.         0.94520548 0.01369863]\n",
      " [0.00787402 0.03149606 0.00787402 0.02362205 0.00787402 0.\n",
      "  0.01574803 0.         0.90551181]]\n",
      "\n",
      "Confusion matrix for the \"Final\" dataset:\n",
      "[[0.96842105 0.03157895]\n",
      " [0.         1.        ]]\n"
     ]
    }
   ],
   "source": [
    "print('Confusion matrix for the \"Single\" dataset:')\n",
    "print(conf_matrix[0])\n",
    "print('\\nConfusion matrix for the \"Final\" dataset:')\n",
    "print(conf_matrix[1])"
   ]
  },
  {
   "cell_type": "code",
   "execution_count": null,
   "id": "676655d2",
   "metadata": {},
   "outputs": [],
   "source": []
  }
 ],
 "metadata": {
  "kernelspec": {
   "display_name": "Python 3",
   "language": "python",
   "name": "python3"
  },
  "language_info": {
   "codemirror_mode": {
    "name": "ipython",
    "version": 3
   },
   "file_extension": ".py",
   "mimetype": "text/x-python",
   "name": "python",
   "nbconvert_exporter": "python",
   "pygments_lexer": "ipython3",
   "version": "3.9.4"
  }
 },
 "nbformat": 4,
 "nbformat_minor": 5
}
