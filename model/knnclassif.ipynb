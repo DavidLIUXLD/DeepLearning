{
 "cells": [
  {
   "cell_type": "code",
   "execution_count": 1,
   "id": "c0386d76",
   "metadata": {},
   "outputs": [],
   "source": [
    "import numpy as np\n",
    "import matplotlib.pyplot as plt\n",
    "from sklearn.model_selection import train_test_split\n",
    "from sklearn.preprocessing import StandardScaler\n",
    "from sklearn.neighbors import KNeighborsClassifier\n",
    "from sklearn.metrics import confusion_matrix\n",
    "from sklearn.model_selection import KFold\n",
    "from sklearn import metrics"
   ]
  },
  {
   "cell_type": "code",
   "execution_count": 2,
   "id": "c17e2d17",
   "metadata": {},
   "outputs": [],
   "source": [
    "datasets = [np.loadtxt(\"../Data/tictac_single.txt\"), \\\n",
    "            np.loadtxt(\"../Data/tictac_final.txt\")]"
   ]
  },
  {
   "cell_type": "code",
   "execution_count": 9,
   "id": "4809ca0d",
   "metadata": {},
   "outputs": [
    {
     "name": "stdout",
     "output_type": "stream",
     "text": [
      "The  k value chosen is 29, with an average score of 88.22187972714559%\n",
      "The score for the test set is 90.38657171922686%\n",
      "The  k value chosen is 2, with an average score of 99.8507462686567%\n",
      "The score for the test set is 100.0%\n"
     ]
    }
   ],
   "source": [
    "kf = KFold(n_splits=10)\n",
    "k_vals = np.arange(2,40,1)\n",
    "\n",
    "# names = ['k-NN Uniform,', 'k-NN Weighted']\n",
    "names = ['k-NN Weighted']\n",
    "\n",
    "max_a2 = 0\n",
    "kk = 0\n",
    "acc_fold = []\n",
    "conf_matrix = []\n",
    "\n",
    "for ds_cnt, ds in enumerate(datasets):    \n",
    "    for k in k_vals:\n",
    "        #     classifiers = [KNeighborsClassifier(k, weights = 'uniform'), \\\n",
    "#                    KNeighborsClassifier(k, weights = 'distance')]\n",
    "        classifiers =[KNeighborsClassifier(k, weights = 'distance')]\n",
    "\n",
    "        X = ds[:, :9]\n",
    "        y = ds[:, 9:]\n",
    "        X = StandardScaler().fit_transform(X)\n",
    "        X_train, X_test, y_train, y_test = train_test_split(X, y, test_size=.3)\n",
    "\n",
    "        f = 1\n",
    "        a2_val = 0\n",
    "        for train_index, validation_index in kf.split(X_train):\n",
    "#             print(f'Fold {f}')\n",
    "            X_train2, X_validation = X_train[train_index,:], X_train[validation_index,:]\n",
    "            y_train2, y_validation = y_train[train_index,:], y_train[validation_index,:]\n",
    "\n",
    "            for name, clf in zip(names,classifiers):\n",
    "#                 print(f'Name {name}')\n",
    "                clf.fit(X_train2, y_train2.ravel())\n",
    "                y_val_predict = clf.predict(X_validation)\n",
    "                val_score = clf.score(X_validation, y_validation)\n",
    "#                 print(f'Validation Set Score: {val_score}')\n",
    "                a2_val += val_score\n",
    "            acc_fold += [a2_val/10]\n",
    "            \n",
    "            if a2_val/10 > max_a2:\n",
    "                kk = k\n",
    "                max_a2 = a2_val/10\n",
    "            \n",
    "            f += 1\n",
    "    \n",
    "    print(f'The  k value chosen is {kk}, with an average score of {max_a2*100}%')\n",
    "    final_classifier = KNeighborsClassifier(kk, weights = 'distance')\n",
    "    final_classifier.fit(X_train, y_train.ravel())\n",
    "    y_pred = final_classifier.predict(X_test)\n",
    "    score = final_classifier.score(X_test, y_test)\n",
    "    print(f'The score for the test set is {score*100}%')\n",
    "    conf_matrix += [confusion_matrix(y_test, y_pred, normalize='true')]"
   ]
  },
  {
   "cell_type": "code",
   "execution_count": 10,
   "id": "8b7e5186",
   "metadata": {},
   "outputs": [
    {
     "name": "stdout",
     "output_type": "stream",
     "text": [
      "Confusion matrix for the \"Single\" dataset:\n",
      "[[0.96483516 0.00659341 0.01098901 0.         0.01318681 0.0021978\n",
      "  0.         0.0021978  0.        ]\n",
      " [0.02118644 0.89830508 0.01694915 0.         0.03813559 0.00423729\n",
      "  0.00847458 0.00847458 0.00423729]\n",
      " [0.02960526 0.00657895 0.92105263 0.00328947 0.02960526 0.00986842\n",
      "  0.         0.         0.        ]\n",
      " [0.06790123 0.04320988 0.01234568 0.74074074 0.09259259 0.01234568\n",
      "  0.01851852 0.00617284 0.00617284]\n",
      " [0.0123839  0.00619195 0.0123839  0.00619195 0.9628483  0.\n",
      "  0.         0.         0.        ]\n",
      " [0.03846154 0.04807692 0.02884615 0.01923077 0.00961538 0.82692308\n",
      "  0.01923077 0.         0.00961538]\n",
      " [0.01898734 0.         0.02531646 0.         0.06329114 0.\n",
      "  0.89240506 0.         0.        ]\n",
      " [0.05813953 0.02325581 0.         0.         0.03488372 0.03488372\n",
      "  0.02325581 0.8255814  0.        ]\n",
      " [0.11594203 0.00724638 0.         0.01449275 0.01449275 0.\n",
      "  0.         0.         0.84782609]]\n",
      "\n",
      "Confusion matrix for the \"Final\" dataset:\n",
      "[[1. 0.]\n",
      " [0. 1.]]\n"
     ]
    }
   ],
   "source": [
    "print('Confusion matrix for the \"Single\" dataset:')\n",
    "print(conf_matrix[0])\n",
    "print('\\nConfusion matrix for the \"Final\" dataset:')\n",
    "print(conf_matrix[1])\n"
   ]
  }
 ],
 "metadata": {
  "kernelspec": {
   "display_name": "Python 3",
   "language": "python",
   "name": "python3"
  },
  "language_info": {
   "codemirror_mode": {
    "name": "ipython",
    "version": 3
   },
   "file_extension": ".py",
   "mimetype": "text/x-python",
   "name": "python",
   "nbconvert_exporter": "python",
   "pygments_lexer": "ipython3",
   "version": "3.9.4"
  }
 },
 "nbformat": 4,
 "nbformat_minor": 5
}
